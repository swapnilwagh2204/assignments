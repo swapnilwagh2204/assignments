{
 "cells": [
  {
   "cell_type": "code",
   "execution_count": 1,
   "metadata": {},
   "outputs": [
    {
     "name": "stdout",
     "output_type": "stream",
     "text": [
      "15\n"
     ]
    }
   ],
   "source": [
    "'''\n",
    "1.1 Write a Python Program to implement your own myreduce() function which works exactly\n",
    "like Python's built-in function reduce()\n",
    "#taken default sum function here\n",
    "'''\n",
    "def myreduce(func,ls):\n",
    "\n",
    "    return func(ls)\n",
    "\n",
    "print(myreduce(sum,[1,2,3,4,5]))\n"
   ]
  },
  {
   "cell_type": "code",
   "execution_count": 2,
   "metadata": {},
   "outputs": [
    {
     "name": "stdout",
     "output_type": "stream",
     "text": [
      "[6, 6, 53, 32, 43, 32]\n"
     ]
    }
   ],
   "source": [
    "'''\n",
    "1.2 Write a Python program to implement your own myfilter() function which works exactly\n",
    "like Python's built-in function filter()'''\n",
    "\n",
    "#here we are creating filter funcction to filter those elements of list which are >5\n",
    "def myfilter(ls):\n",
    "    ls1=[]\n",
    "    for i in ls:\n",
    "        if i>5:\n",
    "            ls1.append(i)\n",
    "    return ls1\n",
    "        \n",
    "print(myfilter([1,2,3,6,4,2,5,6,53,32,43,32]))\n"
   ]
  },
  {
   "cell_type": "code",
   "execution_count": 3,
   "metadata": {},
   "outputs": [
    {
     "name": "stdout",
     "output_type": "stream",
     "text": [
      "['A', 'C', 'A', 'D', 'A', 'G', 'I', 'L', 'D']\n",
      "['x', 'xx', 'xxx', 'xxxx', 'y', 'yy', 'yyy', 'yyyy', 'z', 'zz', 'zzz', 'zzzz']\n",
      "['x', 'y', 'z', 'xx', 'yy', 'zz', 'xxx', 'yyy', 'zzz', 'xxxx', 'yyyy', 'zzzz']\n",
      "[[2], [3], [4], [3], [4], [5], [4], [5], [6]]\n",
      "[[2, 3, 4, 5], [3, 4, 5, 6], [4, 5, 6, 7], [5, 6, 7, 8]]\n",
      "[(1, 1), (2, 1), (3, 1), (1, 2), (2, 2), (3, 2), (1, 3), (2, 3), (3, 3)]\n"
     ]
    }
   ],
   "source": [
    "'''\n",
    "Write List comprehensions to produce the following Lists\n",
    "1-->['A', 'C', 'A', 'D', 'G', 'I', ’L’, ‘ D’]\n",
    "\n",
    "2-->['x', 'xx', 'xxx', 'xxxx', 'y', 'yy', 'yyy', 'yyyy', 'z', 'zz', 'zzz', 'zzzz']\n",
    "\n",
    "3-->['x', 'y', 'z', 'xx', 'yy', 'zz', 'xxx', 'yyy', 'zzz', 'xxxx', 'yyyy', 'zzzz']\n",
    "\n",
    "4-->[[2], [3], [4], [3], [4], [5], [4], [5], [6]] \n",
    "\n",
    "5-->[[2, 3, 4, 5], [3, 4, 5, 6],[4, 5, 6, 7], [5, 6, 7, 8]]\n",
    "\n",
    "6-->[(1, 1), (2, 1), (3, 1), (1, 2), (2, 2), (3, 2), (1, 3), (2, 3), (3, 3)]\n",
    "'''\n",
    "#1\n",
    "\n",
    "st='ACADAGILD'\n",
    "ls=[i for i in st]\n",
    "print(ls)\n",
    "\n",
    "#2\n",
    "\n",
    "ls=list('xyz')\n",
    "ls1=[i*n for i in ls for n in range(1,5)]\n",
    "print(ls1)\n",
    "\n",
    "#3\n",
    "\n",
    "ls=list('xyz')\n",
    "ls1=[i*n for n in range(1,5) for i in ls]\n",
    "print(ls1)\n",
    "\n",
    "#4\n",
    "\n",
    "ls=[2,3,4]\n",
    "ls1=[[i+j] for i in ls for j in range(0,3)]\n",
    "print(ls1)\n",
    "\n",
    "#5\n",
    "\n",
    "\n",
    "ls=[2,3,4,5]\n",
    "ls1=[[i+j for i in ls] for j in range(4)]\n",
    "print(ls1)\n",
    "\n",
    "#6\n",
    "\n",
    "ls=[1,2,3]\n",
    "ls1=[(i,j) for j in range(1,4) for i in ls ]\n",
    "print(ls1)\n"
   ]
  },
  {
   "cell_type": "code",
   "execution_count": null,
   "metadata": {},
   "outputs": [],
   "source": []
  }
 ],
 "metadata": {
  "kernelspec": {
   "display_name": "Python 3",
   "language": "python",
   "name": "python3"
  },
  "language_info": {
   "codemirror_mode": {
    "name": "ipython",
    "version": 3
   },
   "file_extension": ".py",
   "mimetype": "text/x-python",
   "name": "python",
   "nbconvert_exporter": "python",
   "pygments_lexer": "ipython3",
   "version": "3.8.5"
  },
  "toc": {
   "base_numbering": 1,
   "nav_menu": {},
   "number_sections": true,
   "sideBar": true,
   "skip_h1_title": false,
   "title_cell": "Table of Contents",
   "title_sidebar": "Contents",
   "toc_cell": false,
   "toc_position": {},
   "toc_section_display": true,
   "toc_window_display": false
  }
 },
 "nbformat": 4,
 "nbformat_minor": 4
}
